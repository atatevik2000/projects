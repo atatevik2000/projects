{
 "cells": [
  {
   "cell_type": "markdown",
   "id": "765e0fe3",
   "metadata": {},
   "source": [
    "## Prime number check\n",
    "\n",
    "Check whether the given number is prime or not.\n",
    "\n",
    "Input: int number\n",
    "\n",
    "Output: \"prime\" if the number is prime, \"not prime\" if the number is not prime\n",
    "\n",
    "Example\n",
    "\n",
    "Input: 19\n",
    "\n",
    "Output: prime\n",
    "\n",
    "Input: 15\n",
    "\n",
    "Output: not prime"
   ]
  },
  {
   "cell_type": "code",
   "execution_count": 2,
   "id": "005e4cff",
   "metadata": {},
   "outputs": [
    {
     "name": "stdout",
     "output_type": "stream",
     "text": [
      "19\n",
      "Is PRIME\n"
     ]
    }
   ],
   "source": [
    "from math import *\n",
    "num = int(input())\n",
    "k = True\n",
    "for i in range(2,num-1):\n",
    "    if num % i == 0:\n",
    "        k = False\n",
    "        break\n",
    "if k:\n",
    "    print(\"Is PRIME\")\n",
    "else:\n",
    "    print(\"is not PRIME\")"
   ]
  },
  {
   "cell_type": "markdown",
   "id": "f6bdb8f0",
   "metadata": {},
   "source": [
    "### Write a Python program to get the frequency of the elements in a list as a dict \n",
    "\n",
    "Input: [\"a\",\"b\",\"c\",\"a\",\"c\"]\n",
    "\n",
    "Output: \n",
    "\n",
    "\"a\" 2\n",
    "\n",
    "\"b\" 1\n",
    "\n",
    "\"c\" 2"
   ]
  },
  {
   "cell_type": "code",
   "execution_count": 1,
   "id": "cdb8d29f",
   "metadata": {},
   "outputs": [
    {
     "name": "stdout",
     "output_type": "stream",
     "text": [
      "[\"a\",\"b\",\"c\",\"a\",\"c\"]\n",
      "\"a\" 2\n",
      "\"b\" 1\n",
      "\"c\" 2\n"
     ]
    }
   ],
   "source": [
    "a=input()\n",
    "b=a[1:-1].split(',')\n",
    "slovar = dict()\n",
    "for i in b:\n",
    "    slovar[i]=a.count(i)\n",
    "for i in slovar:\n",
    "    print(i, slovar[i] )"
   ]
  },
  {
   "cell_type": "markdown",
   "id": "b510ceca",
   "metadata": {},
   "source": [
    "### Function that returns the area\n",
    "\n",
    "Write a function that returns the area and the perimeter of the rectangle given its length and width. User can give only one argument if it is a square."
   ]
  },
  {
   "cell_type": "code",
   "execution_count": 10,
   "id": "8de26db4",
   "metadata": {},
   "outputs": [
    {
     "name": "stdout",
     "output_type": "stream",
     "text": [
      "3 4\n",
      "area is 12, perimetr is 14\n"
     ]
    }
   ],
   "source": [
    "def rectangle(a,b):\n",
    "    area = a*b\n",
    "    perimetr = (a+b)*2\n",
    "    print(\"area is {}, perimetr is {}\".format(area, perimetr))\n",
    "a = input()\n",
    "a=a.split()\n",
    "\n",
    "if len(a) == 1:\n",
    "    x, y= int(a[0]), int(a[0])\n",
    "else:\n",
    "    x, y = int(a[0]), int(a[1])\n",
    "rectangle(x,y)\n"
   ]
  },
  {
   "cell_type": "markdown",
   "id": "801c143d",
   "metadata": {},
   "source": [
    "### Class For Geometric Figure\n",
    "\n",
    "Write a class AbstractGeometricFigure.\n",
    "It should have methods for print info, which should print the perimeter, area and volume.\n",
    "\n",
    "Next class is the Circle. It inherits from AbstractGeometricFigure and has radius.\n",
    "\n",
    "Next class is the Cylinder. It inherits from Circle. \n",
    "\n",
    "Next class is the Sphere. It inherits from Circle.\n",
    "\n",
    "Another class is Triagle. It inherits from AbstractGeometricFigure and has side length. \n",
    "\n",
    "Next class is Square, which inherits from AbstractGeometricFigure.\n",
    "Finally you should have the class Cube which inherits from Square."
   ]
  },
  {
   "cell_type": "code",
   "execution_count": 11,
   "id": "b5b2baed",
   "metadata": {},
   "outputs": [
    {
     "name": "stdout",
     "output_type": "stream",
     "text": [
      " Choose the figure: \n",
      " Circle   -- 1 \n",
      " Cylinder -- 2 \n",
      " Sphere   -- 3 \n",
      " Triagle  -- 4 \n",
      " Square   -- 5 \n",
      " Cube     -- 6\n",
      " 6\n",
      " Input side \n",
      " 54\n",
      " Perimetr == 648 \n",
      " Area == 17496 \n",
      " Volume == 157464\n"
     ]
    }
   ],
   "source": [
    "from math import *\n",
    "class AbstractGeometricFigure():\n",
    "    def __init__(self,side):\n",
    "        self.side = side\n",
    "\n",
    "class Circle(AbstractGeometricFigure):\n",
    "    def __init__(self,radius):\n",
    "        self.radius = radius\n",
    "    def info(self):\n",
    "        print(\" Perimetr == {:.3f}\\n Area == {:.3f}\".format(self.radius*2*pi ,pi*self.radius**2))\n",
    "\n",
    "class Cylinder(Circle):\n",
    "    def __init__(self, hight):\n",
    "        self.hight = hight\n",
    "        radius = int(input(\" Input radius \\n \"))\n",
    "        super().__init__(radius)\n",
    "    def info(self):\n",
    "        print(\" Perimetr == {:.3f}\\n Area == {:.3f} \\n Volume == {:.3f}\".format(self.radius * 4 + 2*self.hight, 2*pi * self.radius ** 2 + 2*pi*self.radius*self.hight, pi*self.radius**2*self.hight))\n",
    "\n",
    "\n",
    "class Sphere(Circle):\n",
    "    def __init__(self, hight):\n",
    "        self.hight = hight\n",
    "        radius = int(input(\" Input radius \\n \"))\n",
    "        super().__init__(radius)\n",
    "    def info(self):\n",
    "        print(\" Area == {:.3f} \\n Volume == {:.3f} \".format(4*self.radius **2, (4/3)*pi * self.radius ** 3))\n",
    "\n",
    "class Triagle(AbstractGeometricFigure):\n",
    "    def __init__(self, lenght):\n",
    "        self.lenght = lenght\n",
    "        super().__init__(side)\n",
    "    def info(self):\n",
    "        print(\" Perimetr == {:.3f} \\n Area == {:.3f}\".format(self.side*3,(sqrt(3)*self.side**2)/4))\n",
    "class Square(AbstractGeometricFigure):\n",
    "    def info(self):\n",
    "        print(\" Perimetr == \",self.side*4,\"\\n Area == \",self.side**2)\n",
    "\n",
    "class Cube(Square):\n",
    "    def info(self):\n",
    "        print(\" Perimetr == {} \\n Area == {} \\n Volume == {}\".format(12*self.side, 6*self.side**2, self.side**3))\n",
    "\n",
    "figure = int(input(\" Choose the figure: \\n Circle   -- 1 \\n Cylinder -- 2 \\n Sphere   -- 3 \\n Triagle  -- 4 \\n Square   -- 5 \\n Cube     -- 6\\n \"))\n",
    "\n",
    "\n",
    "if figure == 1:\n",
    "    radius = int(input(\" Input radius \\n \"))\n",
    "    obj1= Circle(radius)\n",
    "    obj1.info()\n",
    "\n",
    "elif figure == 2:\n",
    "    hight = int(input(\" Input hight \\n \"))\n",
    "    obj2 = Cylinder(hight)\n",
    "    obj2.info()\n",
    "\n",
    "elif figure == 3:\n",
    "    hight = int(input(\" Input hight \\n \"))\n",
    "    obj3 = Sphere(hight)\n",
    "    obj3.info()\n",
    "\n",
    "elif figure == 4:\n",
    "    side = int(input(\" Input side \\n \"))\n",
    "    obj4 = Triagle(side)\n",
    "    obj4.info()\n",
    "\n",
    "elif figure== 5:\n",
    "    side = int(input(\" Input side \\n \"))\n",
    "    obj5 = Square(side)\n",
    "    obj5.info()\n",
    "\n",
    "elif figure == 6:\n",
    "    side = int(input(\" Input side \\n \"))\n",
    "    obj6 = Cube(side)\n",
    "    obj6.info()\n",
    "\n"
   ]
  },
  {
   "cell_type": "markdown",
   "id": "09f6eb6b",
   "metadata": {},
   "source": [
    "## *Phonebook\n",
    "\n",
    "Write a phonebook program. It uses the given dict and asks for an input. If there is such name in a phonebook, user can either modify or get the phone number. If there is no such name user can add the name and the phone number. You should check the phone number style. It should contain 6 digits. Program should work in an infinite loop and it will break only if the user input is 'exit'."
   ]
  },
  {
   "cell_type": "code",
   "execution_count": 12,
   "id": "67394085",
   "metadata": {},
   "outputs": [
    {
     "name": "stdout",
     "output_type": "stream",
     "text": [
      "Tatevik          ---  654321\n",
      "Harut            ---  543210\n",
      "Gayane           ---  987654\n",
      "Ruben            ---  753467\n",
      "Sofiya           ---  366543\n",
      "Input user`s name. \n",
      "Tatevik\n",
      "If you want to modify user`s number, press 'm'.\n",
      "If you want to get user`s name, press ENTER.\n",
      "m\n",
      "Add the phone number. \n",
      "5677374\n",
      "Add the phone number. It should contain 6 digits.### \n",
      "432333\n",
      "If you want to print Phone Book, input 'book'.\n",
      "If you want to exit, input 'exit'.\n",
      "Else press ENTER.\n",
      "book\n",
      "Tatevik          ---  432333\n",
      "Harut            ---  543210\n",
      "Gayane           ---  987654\n",
      "Ruben            ---  753467\n",
      "Sofiya           ---  366543\n",
      "If you want to exit, input 'exit'. Else press ENTER\n",
      "\n",
      "Input user`s name. \n",
      "Goharik\n",
      "Add the phone number. \n",
      "9867655\n",
      "Add the phone number. It should contain 6 digits.### \n",
      "35g\n",
      "Add the phone number. It should contain 6 digits.### \n",
      "453213\n",
      "If you want to print Phone Book, input 'book'.\n",
      "If you want to exit, input 'exit'.\n",
      "Else press ENTER.\n",
      "exit\n"
     ]
    }
   ],
   "source": [
    "class Phonebook():\n",
    "    def __init__(self, book):\n",
    "        self.book = book\n",
    "\n",
    "\n",
    "\n",
    "    def get_phone_number(self):\n",
    "        def phone_info():\n",
    "            number = input(\"Add the phone number. \\n\")\n",
    "            boo = False\n",
    "            while boo == False :\n",
    "                for i in number:\n",
    "                    if i.isdigit() and len(number) == 6:\n",
    "                        boo = True\n",
    "                        return number\n",
    "                    else:\n",
    "                        number = input(\"Add the phone number. It should contain 6 digits.### \\n\")\n",
    "                        boo == False\n",
    "        new_name = input(\"Input user`s name. \\n\")\n",
    "        if self.book.get(new_name) == None:\n",
    "            new_phone = phone_info()\n",
    "            self.book[new_name] = new_phone\n",
    "        else:\n",
    "            choose= input(\"If you want to modify user`s number, press 'm'.\\nIf you want to get user`s name, press ENTER.\\n\")\n",
    "            if choose == 'm':\n",
    "                new_phone = phone_info()\n",
    "                self.book[new_name] = new_phone\n",
    "            else:\n",
    "                print(new_name,\"`s phone number is \", self.book.get(new_name))\n",
    "\n",
    "    def info(self, book):\n",
    "        for i in self.book:\n",
    "            print(\"{:<15}  ---  {:<6}\".format(i,self.book[i]))\n",
    "\n",
    "\n",
    "b= {\"Tatevik\":'654321', \"Harut\":'543210', \"Gayane\": '987654', \"Ruben\":'753467',\"Sofiya\":'366543'}\n",
    "phone = Phonebook(b)\n",
    "phone.info(b)\n",
    "while True:\n",
    "    phone.get_phone_number()\n",
    "    ex = input(\"If you want to print Phone Book, input 'book'.\\nIf you want to exit, input 'exit'.\\nElse press ENTER.\\n\")\n",
    "    if ex == 'exit':\n",
    "        break\n",
    "    elif ex == 'book':\n",
    "        phone.info(b)\n",
    "        ex = input(\"If you want to exit, input 'exit'. Else press ENTER\\n\")\n",
    "        if ex == 'exit':\n",
    "            break\n",
    "\n",
    "\n",
    "\n"
   ]
  },
  {
   "cell_type": "code",
   "execution_count": null,
   "id": "b7cfe35d",
   "metadata": {},
   "outputs": [],
   "source": []
  }
 ],
 "metadata": {
  "kernelspec": {
   "display_name": "Python 3 (ipykernel)",
   "language": "python",
   "name": "python3"
  },
  "language_info": {
   "codemirror_mode": {
    "name": "ipython",
    "version": 3
   },
   "file_extension": ".py",
   "mimetype": "text/x-python",
   "name": "python",
   "nbconvert_exporter": "python",
   "pygments_lexer": "ipython3",
   "version": "3.9.12"
  }
 },
 "nbformat": 4,
 "nbformat_minor": 5
}
