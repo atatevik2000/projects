{
 "cells": [
  {
   "cell_type": "code",
   "execution_count": 2,
   "id": "dd54f450",
   "metadata": {},
   "outputs": [],
   "source": [
    "import numpy as np\n",
    "import numpy.linalg as linalg\n",
    "import matplotlib.pyplot as plt"
   ]
  },
  {
   "cell_type": "code",
   "execution_count": 56,
   "id": "525e0999",
   "metadata": {
    "scrolled": true
   },
   "outputs": [
    {
     "name": "stdout",
     "output_type": "stream",
     "text": [
      "FIT\n",
      "[[0.16261568 0.21237822 0.27241483 0.34205253 0.41923452 0.50058193\n",
      "  0.58189854 0.65899442 0.72850692 0.78839947]]\n",
      "[1. 1. 1. 1. 1. 1. 1. 1. 1. 1.]\n",
      "[[0. 0. 0. 0. 0. 1. 1. 1. 1. 1.]] y_pred_bool ###\n",
      "ACCURACY\n",
      " 5.0\n"
     ]
    }
   ],
   "source": [
    "class LinearRegressionLR():\n",
    "        \n",
    "    def fit(self,x_train, y_train, alpha, b_0, b_1, eps,max_iter, trashhold):\n",
    "        print(\"FIT\")\n",
    "        iteracii = 0\n",
    "        self.b=[b_0,b_1]\n",
    "        self.b_0 = b_0\n",
    "        self.b_1 =  b_1\n",
    "        \n",
    "        while True:\n",
    "            y_pred= self.predict(x_train, trashhold)\n",
    "            d_mse_b1 = (1/y_train.size)*np.sum(x_train*(y_train-y_pred))\n",
    "            d_mse_b0 = (1/y_train.size)*np.sum((y_train-y_pred))\n",
    "            b_1_new = b_1 -alph*d_mse_b1\n",
    "            b_0_new = b_0 -alph*d_mse_b0\n",
    "            iteracii+=1\n",
    "            if b_0-b_0_new < eps or b_1-b_1_new < eps or iteracii >max_iter:\n",
    "                break\n",
    "            b_0=b_0_new\n",
    "            b_1=b_1_new\n",
    "            self.b_0 = b_0\n",
    "            self.b_1=b_1\n",
    "            self.b=[b_0,b_1]\n",
    "        return b_0, b_1\n",
    "    \n",
    "    def predict(self, x_train, trashhold):\n",
    "        y_pred = 1 /(1+np.exp(self.b_0 + self.b_1*x_train))   #np.exp(self.b_0 + self.b_1*x_train)\n",
    "        self.y_pred = y_pred\n",
    "        return y_pred\n",
    "    \n",
    "    def predict_bool(self, trashhold):\n",
    "        #print(y_pred.size)\n",
    "        y_pred_bool = np.ones(len(y_pred))\n",
    "        print(y_pred_bool)\n",
    "        y_pred_bool = self.y_pred\n",
    "        y_pred_bool[y_pred_bool>trashhold] = 1\n",
    "        y_pred_bool[self.y_pred<trashhold] = 0\n",
    "        print(y_pred_bool.T, \"y_pred_bool ###\")\n",
    "        self.y_pred_bool= y_pred_bool\n",
    "        return y_pred_bool\n",
    "    \n",
    "    def get_coeffs(self):\n",
    "        print(\"\\nCOEFFS\")\n",
    "        print(\"\",self.b_0, \"   b0 \\n\",self.b, \"   b\")\n",
    "        return self.b_0,self.b\n",
    "    \n",
    "    def accuracy(self,y_test):\n",
    "        val = np.sum(self.y_pred_bool == y_test)/len(y_test)\n",
    "        print(\"ACCURACY\\n\",val)\n",
    "        return val\n",
    "b_1=1\n",
    "b_0=2\n",
    "trash = 0.5\n",
    "alph = 0.001\n",
    "eps = 0.00001\n",
    "max_iter = 1000\n",
    "x=np.arange(10)\n",
    "y=np.array([0,0,0,1,0,1,1,1,1,1])\n",
    "x=x.reshape(-1,1)\n",
    "LR = LinearRegressionLR()\n",
    "LR.fit(x,y,alph,b_0,b_1, eps, max_iter, trash)\n",
    "y_predict =LR.predict(x,trash)\n",
    "print(y_predict.T)\n",
    "y_pred_bool =LR.predict_bool(trash)\n",
    "accur = LR.accuracy(y)\n"
   ]
  },
  {
   "cell_type": "code",
   "execution_count": 57,
   "id": "3726569b",
   "metadata": {
    "scrolled": true
   },
   "outputs": [
    {
     "data": {
      "text/plain": [
       "[<matplotlib.lines.Line2D at 0x1b26f3b4850>]"
      ]
     },
     "execution_count": 57,
     "metadata": {},
     "output_type": "execute_result"
    },
    {
     "data": {
      "image/png": "[encoded data removed]",
      "text/plain": [
       "<Figure size 432x288 with 1 Axes>"
      ]
     },
     "metadata": {
      "needs_background": "light"
     },
     "output_type": "display_data"
    }
   ],
   "source": [
    "plt.scatter(x,y)\n",
    "plt.plot(x,y_pred_bool,color='purple')"
   ]
  },
  {
   "cell_type": "code",
   "execution_count": null,
   "id": "96b461cb",
   "metadata": {},
   "outputs": [],
   "source": []
  }
 ],
 "metadata": {
  "kernelspec": {
   "display_name": "Python 3 (ipykernel)",
   "language": "python",
   "name": "python3"
  },
  "language_info": {
   "codemirror_mode": {
    "name": "ipython",
    "version": 3
   },
   "file_extension": ".py",
   "mimetype": "text/x-python",
   "name": "python",
   "nbconvert_exporter": "python",
   "pygments_lexer": "ipython3",
   "version": "3.9.12"
  }
 },
 "nbformat": 4,
 "nbformat_minor": 5
}
