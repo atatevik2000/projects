{
 "cells": [
  {
   "cell_type": "markdown",
   "id": "5009f395",
   "metadata": {},
   "source": [
    "## Linear Regression"
   ]
  },
  {
   "cell_type": "code",
   "execution_count": 2,
   "id": "b3a56eb0",
   "metadata": {},
   "outputs": [],
   "source": [
    "import numpy as np\n",
    "import numpy.linalg as linalg\n",
    "import matplotlib.pyplot as plt\n"
   ]
  },
  {
   "cell_type": "code",
   "execution_count": 3,
   "id": "84467fcc",
   "metadata": {},
   "outputs": [
    {
     "name": "stdout",
     "output_type": "stream",
     "text": [
      "FIT\n",
      " 9.10585728435312    b0\n",
      " [9.10585728 2.18724991]    b\n",
      "\n",
      "\n",
      "PREDICT\n",
      "[ 9.10585728 11.29310719 13.4803571  15.66760701 17.85485691 20.04210682\n",
      " 22.22935673 24.41660664 26.60385654 28.79110645]\n",
      "\n",
      "PREDICT\n",
      "[ 9.10585728 11.29310719 13.4803571  15.66760701 17.85485691 20.04210682\n",
      " 22.22935673 24.41660664 26.60385654 28.79110645]\n",
      "\n",
      "MSE ==   0.40294354145027017\n",
      "\n",
      "COEFFS\n",
      " 9.10585728435312    b0 \n",
      " [9.10585728 2.18724991]    b\n"
     ]
    },
    {
     "data": {
      "text/plain": [
       "(9.10585728435312, array([9.10585728, 2.18724991]))"
      ]
     },
     "execution_count": 3,
     "metadata": {},
     "output_type": "execute_result"
    }
   ],
   "source": [
    "class LinearRegression:\n",
    "    def fit(self,x_train,y_train):\n",
    "        print(\"FIT\")\n",
    "        I=np.ones([len(x_train), 1])\n",
    "        x_train =np.hstack([I,x_train])\n",
    "        x_t_x = np.matmul(x_train.T,x_train) #x'x\n",
    "        x_obr=linalg.inv(x_t_x)              #(x'x)^-1   \n",
    "        b =np.matmul(x_obr,x_train.T)\n",
    "        b= np.matmul(b,y_train)\n",
    "        b_0 = b[0]\n",
    "        self.b=b\n",
    "        self.b_0=b_0\n",
    "        print(\"\", b_0, \"   b0\\n\",b,\"   b\\n\")\n",
    "        \n",
    "    def predict(self, x_val):\n",
    "        print(\"\\nPREDICT\")\n",
    "        I=np.ones([len(x_val), 1])\n",
    "        x_train = np.hstack([I,x_val])\n",
    "        y_pred = np.matmul(x_train, self.b) \n",
    "        print(y_pred)\n",
    "        return y_pred\n",
    "    \n",
    "    def get_coeffs(self):\n",
    "        print(\"\\nCOEFFS\")\n",
    "        print(\"\",self.b_0, \"   b0 \\n\",self.b, \"   b\")\n",
    "        return self.b_0,self.b\n",
    "     \n",
    "    def get_score(self,x_test,y_test):\n",
    "        y_pred = self.predict(x_test)\n",
    "        mse = (y_pred-y_test)**2\n",
    "        mse= np.sum(mse)\n",
    "        mse=mse/len(y_test)\n",
    "        print(\"\\nMSE ==  \",mse)\n",
    "        return mse\n",
    "\n",
    "b_1=2\n",
    "b_0=10\n",
    "x=np.arange(10)\n",
    "y=b_1*x+b_0 +np.random.randn(10)\n",
    "x=x.reshape(-1,1)\n",
    "LR= LinearRegression()\n",
    "\n",
    "LR.fit(x,y)\n",
    "\n",
    "y_pred = LR.predict(x)\n",
    "\n",
    "get = LR.get_score(x, y)\n",
    "\n",
    "LR.get_coeffs()"
   ]
  },
  {
   "cell_type": "code",
   "execution_count": 4,
   "id": "b6ca1cb4",
   "metadata": {},
   "outputs": [
    {
     "data": {
      "text/plain": [
       "[<matplotlib.lines.Line2D at 0x1d775217700>]"
      ]
     },
     "execution_count": 4,
     "metadata": {},
     "output_type": "execute_result"
    },
    {
     "data": {
      "image/png": "[encoded data removed]",
      "text/plain": [
       "<Figure size 432x288 with 1 Axes>"
      ]
     },
     "metadata": {
      "needs_background": "light"
     },
     "output_type": "display_data"
    }
   ],
   "source": [
    "plt.scatter(x,y)\n",
    "plt.plot(x,y_pred,color='purple')"
   ]
  },
  {
   "cell_type": "markdown",
   "id": "25edb536",
   "metadata": {},
   "source": [
    "## Gradient Descent"
   ]
  },
  {
   "cell_type": "code",
   "execution_count": 7,
   "id": "b03169a2",
   "metadata": {},
   "outputs": [
    {
     "name": "stdout",
     "output_type": "stream",
     "text": [
      "FIT\n",
      "\n",
      "PREDICT\n",
      "[ 2.  3.  4.  5.  6.  7.  8.  9. 10. 11.]\n",
      "\n",
      "PREDICT\n",
      "[ 2.  3.  4.  5.  6.  7.  8.  9. 10. 11.]\n",
      "[ 2.60186812  2.50660347  5.34642768  5.48987132  6.20706043  6.0254648\n",
      "  8.36563762  7.14475401 12.41997052 11.5943801 ]\n"
     ]
    }
   ],
   "source": [
    "class LinearRegressionGD(LinearRegression):\n",
    "    def fit(self,x_train, y_train, alph, b_0, b_1, eps,max_iter):\n",
    "        print(\"FIT\")\n",
    "        iteracii = 0\n",
    "        self.b=[b_0,b_1]\n",
    "        while True:\n",
    "            y_pred= self.predict(x_train)\n",
    "            d_mse_b1 = (-2/y_train.size)*np.sum(x_train*(y_train-y_pred))\n",
    "            d_mse_b0 = (-2/y_train.size)*np.sum((y_train-y_pred))\n",
    "            b_1_new = b_1 -alph*d_mse_b1\n",
    "            b_0_new = b_0 -alph*d_mse_b0\n",
    "            iteracii+=1\n",
    "            \n",
    "            if b_0-b_0_new < eps or b_1-b_1_new < eps or iteracii >max_iter:\n",
    "                break\n",
    "            b_0=b_0_new\n",
    "            b_1=b_1_new\n",
    "            self.b=[b_0,b_1]\n",
    "        return b_0, b_1\n",
    "        \n",
    "\n",
    "b_1=1\n",
    "b_0=2\n",
    "alph = 0.001\n",
    "eps = 0.00001\n",
    "max_iter = 1000\n",
    "x=np.arange(10)\n",
    "y=b_1*x+b_0 +np.random.randn(10)\n",
    "x=x.reshape(-1,1)\n",
    "GD = LinearRegressionGD()\n",
    "GD.fit(x,y,alph,b_0,b_1, eps, max_iter)\n",
    "y_pred = GD.predict(x)\n",
    "print(y)"
   ]
  },
  {
   "cell_type": "code",
   "execution_count": 8,
   "id": "90211cd9",
   "metadata": {},
   "outputs": [
    {
     "data": {
      "text/plain": [
       "[<matplotlib.lines.Line2D at 0x1d77537f760>]"
      ]
     },
     "execution_count": 8,
     "metadata": {},
     "output_type": "execute_result"
    },
    {
     "data": {
      "image/png": "[encoded data removed]",
      "text/plain": [
       "<Figure size 432x288 with 1 Axes>"
      ]
     },
     "metadata": {
      "needs_background": "light"
     },
     "output_type": "display_data"
    }
   ],
   "source": [
    "plt.scatter(x,y)\n",
    "plt.plot(x,y_pred,color='purple')"
   ]
  },
  {
   "cell_type": "markdown",
   "id": "da437b29",
   "metadata": {},
   "source": [
    "##  Ridge Regression"
   ]
  },
  {
   "cell_type": "code",
   "execution_count": 7,
   "id": "80753634",
   "metadata": {},
   "outputs": [
    {
     "name": "stdout",
     "output_type": "stream",
     "text": [
      "FIT\n",
      "[[0. 0.]\n",
      " [0. 1.]]\n",
      "9.777570462129363 \n",
      " [9.77757046 2.05813813]\n",
      "\n",
      "PREDICT\n",
      "[ 9.77757046 11.8357086  13.89384673 15.95198486 18.01012299 20.06826113\n",
      " 22.12639926 24.18453739 26.24267553 28.30081366]\n",
      "\n",
      "MSE ==   1.3075552703227835\n",
      "\n",
      "COEFFS\n",
      " 9.777570462129363    b0 \n",
      " [9.77757046 2.05813813]    b\n",
      "\n",
      "PREDICT\n",
      "[ 9.77757046 11.8357086  13.89384673 15.95198486 18.01012299 20.06826113\n",
      " 22.12639926 24.18453739 26.24267553 28.30081366]\n"
     ]
    }
   ],
   "source": [
    "class LinearRegressionRR(LinearRegression):\n",
    "    def fit(self,x_train,y_train, lambd):\n",
    "        print(\"FIT\")\n",
    "        I=np.ones([len(x_train), 1])\n",
    "        x_train =np.hstack([I,x_train])\n",
    "        x_t_x = np.matmul(x_train.T,x_train) #x'x\n",
    "        l = np.eye(len(x_t_x)-1,len(x_t_x)-1)\n",
    "        zero = np.zeros([len(x_t_x)-1,1])\n",
    "        l=np.hstack([zero,l])\n",
    "        zero = np.append(zero, 0)          \n",
    "        l=np.vstack([zero,l])                #l и умножение на альфа????\n",
    "        print(l)\n",
    "        b = x_t_x + lambd*l                        #x'x + l\n",
    "        b=linalg.inv(b)                      #(x'x + l)^-1\n",
    "        b =np.matmul(b,x_train.T)  #(x'x + l)^-1*x^-1    \n",
    "        b= np.matmul(b,y_train) \n",
    "        b_0 = b[0]\n",
    "        self.b=b\n",
    "        self.b_0=b_0\n",
    "        print(b_0,\"\\n\",b)\n",
    "b_1=2\n",
    "b_0=10\n",
    "lambd = 5\n",
    "x=np.arange(10)\n",
    "y=b_1*x+b_0 +np.random.randn(10)\n",
    "x=x.reshape(-1,1)\n",
    "RR = LinearRegressionRR()\n",
    "RR.fit(x,y,lambd)\n",
    "RR.get_score(x,y)\n",
    "RR.get_coeffs()\n",
    "y_pred = RR.predict(x)"
   ]
  },
  {
   "cell_type": "code",
   "execution_count": 8,
   "id": "b0a6942d",
   "metadata": {
    "scrolled": true
   },
   "outputs": [
    {
     "data": {
      "text/plain": [
       "[<matplotlib.lines.Line2D at 0x1df37eb63a0>]"
      ]
     },
     "execution_count": 8,
     "metadata": {},
     "output_type": "execute_result"
    },
    {
     "data": {
      "image/png": "[encoded data removed]",
      "text/plain": [
       "<Figure size 432x288 with 1 Axes>"
      ]
     },
     "metadata": {
      "needs_background": "light"
     },
     "output_type": "display_data"
    }
   ],
   "source": [
    "plt.scatter(x,y)\n",
    "plt.plot(x,y_pred,color='purple')"
   ]
  },
  {
   "cell_type": "code",
   "execution_count": null,
   "id": "4f503b44",
   "metadata": {},
   "outputs": [],
   "source": []
  },
  {
   "cell_type": "code",
   "execution_count": null,
   "id": "e883d1c0",
   "metadata": {},
   "outputs": [],
   "source": []
  },
  {
   "cell_type": "code",
   "execution_count": null,
   "id": "d99aa2ca",
   "metadata": {},
   "outputs": [],
   "source": []
  },
  {
   "cell_type": "code",
   "execution_count": null,
   "id": "0e5a14e1",
   "metadata": {},
   "outputs": [],
   "source": []
  }
 ],
 "metadata": {
  "kernelspec": {
   "display_name": "Python 3 (ipykernel)",
   "language": "python",
   "name": "python3"
  },
  "language_info": {
   "codemirror_mode": {
    "name": "ipython",
    "version": 3
   },
   "file_extension": ".py",
   "mimetype": "text/x-python",
   "name": "python",
   "nbconvert_exporter": "python",
   "pygments_lexer": "ipython3",
   "version": "3.9.12"
  }
 },
 "nbformat": 4,
 "nbformat_minor": 5
}
